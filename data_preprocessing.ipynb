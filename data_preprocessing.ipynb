{
 "cells": [
  {
   "cell_type": "code",
   "execution_count": 37,
   "metadata": {},
   "outputs": [],
   "source": [
    "import os\n",
    "import sqlite3\n",
    "import pandas as pd"
   ]
  },
  {
   "cell_type": "markdown",
   "metadata": {},
   "source": [
    "## Filtering .sqlite data"
   ]
  },
  {
   "cell_type": "code",
   "execution_count": 38,
   "metadata": {},
   "outputs": [
    {
     "name": "stdout",
     "output_type": "stream",
     "text": [
      "crowd_labels columns:\n",
      "['mid', 'attribute', 'label']\n",
      "\n",
      "crowd_raw_hits columns:\n",
      "['assignment_id', 'attribute', 'worker_id', 'n_clicks', 'n_seconds', 'last_modified']\n",
      "\n",
      "crowd_raw_choices columns:\n",
      "['assignment_id', 'mid', 'attribute', 'label']\n",
      "\n",
      "crowd_raw_captions columns:\n",
      "['assignment_id', 'mid', 'attribute', 'caption', 'label']\n",
      "\n",
      "modules columns:\n",
      "['mid', 'project_id', 'src', 'mature_content', 'license']\n",
      "\n",
      "scores columns:\n",
      "['mid', 'content_bicycle', 'content_cat', 'content_tree', 'emotion_scary', 'media_oilpaint', 'content_bird', 'content_dog', 'emotion_gloomy', 'media_3d_graphics', 'media_pen_ink', 'content_building', 'content_flower', 'emotion_happy', 'media_comic', 'media_vectorart', 'content_cars', 'content_people', 'emotion_peaceful', 'media_graphite', 'media_watercolor']\n",
      "\n",
      "INNER JOIN:\n",
      "                                                 src   license  \\\n",
      "0  https://mir-s3-cdn-cf.behance.net/project_modu...  cc by-nc   \n",
      "1  https://mir-s3-cdn-cf.behance.net/project_modu...  cc by-nc   \n",
      "2  https://mir-s3-cdn-cf.behance.net/project_modu...  cc by-nc   \n",
      "3  https://mir-s3-cdn-cf.behance.net/project_modu...  cc by-nc   \n",
      "4  https://mir-s3-cdn-cf.behance.net/project_modu...  cc by-nc   \n",
      "5  https://mir-s3-cdn-cf.behance.net/project_modu...  cc by-nc   \n",
      "6  https://mir-s3-cdn-cf.behance.net/project_modu...  cc by-nc   \n",
      "7  https://mir-s3-cdn-cf.behance.net/project_modu...  cc by-nc   \n",
      "8  https://mir-s3-cdn-cf.behance.net/project_modu...  cc by-nc   \n",
      "9  https://mir-s3-cdn-cf.behance.net/project_modu...  cc by-nc   \n",
      "\n",
      "                                             caption  \n",
      "0                                  photo of building  \n",
      "1               It's a building with trees in front.  \n",
      "2                             it's a brick building.  \n",
      "3                                       it's a book.  \n",
      "4                                tall glass building  \n",
      "5                          man sitting near building  \n",
      "6            It's a black sketched 2 floor building.  \n",
      "7  Man standing on building scaffolding in front ...  \n",
      "8    it is a tall type building with a lot of window  \n",
      "9                it has a castle top and a lot doors  \n",
      "[]\n"
     ]
    }
   ],
   "source": [
    "# Returns column names of given table\n",
    "def table_columns(db, table_name):\n",
    "    curs = db.cursor()\n",
    "    sql = \"select * from %s where 1=0;\" % table_name\n",
    "    curs.execute(sql)\n",
    "    return [d[0] for d in curs.description]\n",
    "\n",
    "\n",
    "# Create connection\n",
    "db = sqlite3.connect('20170509-bam-crowd-only-xQ3gXol5UR.sqlite')\n",
    "c = db.cursor()\n",
    "c.execute(\"SELECT name FROM sqlite_master WHERE type='table';\")\n",
    "tables = c.fetchall()\n",
    "\n",
    "#print columns for each table:\n",
    "for i in tables:\n",
    "    cols = table_columns(db, i[0])\n",
    "    print(i[0] + \" columns:\")\n",
    "    print(cols)\n",
    "    print(\"\")\n",
    "\n",
    "print(\"INNER JOIN:\")\n",
    "\n",
    "print(pd.read_sql_query(\"SELECT src, license, caption FROM modules INNER JOIN crowd_raw_captions ON crowd_raw_captions.mid = modules.mid WHERE license = 'cc by-nc' LIMIT 10;\", db))\n",
    "print(c.fetchall())"
   ]
  },
  {
   "cell_type": "markdown",
   "metadata": {},
   "source": [
    "## Save tables to csv"
   ]
  },
  {
   "cell_type": "code",
   "execution_count": 39,
   "metadata": {},
   "outputs": [],
   "source": [
    "query_content = pd.read_sql_query(\"SELECT src, license, caption FROM modules INNER JOIN crowd_raw_captions ON crowd_raw_captions.mid = modules.mid WHERE license = 'cc by-nc';\", db)\n",
    "query_content.to_csv(\"captioned_urls\" + '.csv', index_label='index')"
   ]
  },
  {
   "cell_type": "code",
   "execution_count": null,
   "metadata": {},
   "outputs": [],
   "source": []
  }
 ],
 "metadata": {
  "kernelspec": {
   "display_name": "Python 3",
   "language": "python",
   "name": "python3"
  },
  "language_info": {
   "codemirror_mode": {
    "name": "ipython",
    "version": 3
   },
   "file_extension": ".py",
   "mimetype": "text/x-python",
   "name": "python",
   "nbconvert_exporter": "python",
   "pygments_lexer": "ipython3",
   "version": "3.7.4"
  }
 },
 "nbformat": 4,
 "nbformat_minor": 2
}
