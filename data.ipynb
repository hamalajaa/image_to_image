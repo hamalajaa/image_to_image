{
 "cells": [
  {
   "cell_type": "code",
   "execution_count": 1,
   "metadata": {},
   "outputs": [],
   "source": [
    "import numpy as np\n",
    "import torch\n",
    "import torch.nn as nn\n",
    "import torch.nn.functional as F\n",
    "import torch.optim as optim"
   ]
  },
  {
   "cell_type": "code",
   "execution_count": 2,
   "metadata": {},
   "outputs": [],
   "source": [
    "import torchvision\n",
    "from torchvision import datasets, transforms\n",
    "\n",
    "\n",
    "class DummyGenerator():\n",
    "    def __init__(self, hps=None, img_shape=(64,64)):\n",
    "        self.img_height = img_shape[0]\n",
    "        self.img_width = img_shape[1]\n",
    "\n",
    "    \n",
    "    # Feel free to improve...\n",
    "        \n",
    "    def generate_rectangles(self, set_size=1000):\n",
    "        \n",
    "        X = torch.ones(size=(set_size, 3, self.img_height, self.img_width))\n",
    "        Y = torch.ones(size=(set_size, 3, self.img_height, self.img_width))\n",
    "        \n",
    "        vertices = np.array([np.random.choice(range(0, self.img_width // 2)), \n",
    "                               np.random.choice(range(self.img_width // 2, self.img_width))])\n",
    "        \n",
    "        coords_x = np.concatenate([np.arange(0, np.min(vertices - 2)), np.arange(np.max(vertices + 2), self.img_width)])\n",
    "        coords_y = np.concatenate([np.arange(0, np.min(vertices - 2)), np.arange(np.max(vertices + 2), self.img_height)])\n",
    "        \n",
    "        Y[:, :, coords_x, :] = 0\n",
    "        Y[:, :, :, coords_y] = 0\n",
    "        \n",
    "        lines_x = np.concatenate([coords_x, np.arange(np.min(vertices), np.max(vertices))])\n",
    "        lines_y = np.concatenate([coords_y, np.arange(np.min(vertices), np.max(vertices))])\n",
    "        \n",
    "        h = torch.ones(size=(set_size, 3, self.img_height, self.img_width))\n",
    "        v = torch.ones(size=(set_size, 3, self.img_height, self.img_width))\n",
    "        \n",
    "        h[:, :, lines_x, :] = 0\n",
    "        v[:, :, :, lines_y] = 0\n",
    "        \n",
    "        X = h + v\n",
    "        \n",
    "        X[:, :, coords_x, :] = 0\n",
    "        X[:, :, :, coords_y] = 0\n",
    "        \n",
    "        return X, Y\n",
    "     \n",
    "    "
   ]
  },
  {
   "cell_type": "code",
   "execution_count": 3,
   "metadata": {},
   "outputs": [],
   "source": [
    "from torch.utils.data import Dataset, TensorDataset\n",
    "import torchvision.transforms.functional as TF\n",
    "\n",
    "\n",
    "class CustomTensorDataset(Dataset):\n",
    "    \"\"\"\n",
    "    TensorDataset with support of transforms.\n",
    "    \"\"\"\n",
    "    def __init__(self, tensors):\n",
    "        assert all(tensors[0].size(0) == tensor.size(0) for tensor in tensors)\n",
    "        self.tensors = tensors\n",
    "        \n",
    "        \n",
    "    def __getitem__(self, index):\n",
    "        x = self.tensors[0][index]\n",
    "        y = self.tensors[1][index]\n",
    "        \n",
    "        x, y = self.transform(x, y)\n",
    "\n",
    "        return x, y\n",
    "    \n",
    "    \n",
    "    def transform(self, x, y):\n",
    "        \n",
    "        to_image = transforms.ToPILImage()\n",
    "        to_tensor = transforms.ToTensor()\n",
    "        \n",
    "        x = to_image(x)\n",
    "        y = to_image(y)\n",
    "        \n",
    "        angle = np.random.randint(-90, 90)\n",
    "        translate = [np.random.randint(-20, 20), np.random.randint(-20, 20)]\n",
    "        scale = np.random.uniform(1, 1.25)\n",
    "        shear = np.random.randint(-30, 30)\n",
    "        hflip = np.random.random() < 0.5\n",
    "        \n",
    "        x = TF.affine(x, angle, translate, scale, shear)\n",
    "        y = TF.affine(y, angle, translate, scale, shear)\n",
    "        \n",
    "        if hflip:\n",
    "            x = TF.hflip(x)\n",
    "            y = TF.hflip(y)\n",
    "        \n",
    "        x = to_tensor(x)\n",
    "        y = to_tensor(y)\n",
    "        \n",
    "        return x, y\n",
    "        \n",
    "        \n",
    "    def __len__(self):\n",
    "        return self.tensors[0].size(0)\n",
    "    \n",
    "    \n",
    "def imshow(img, title=''):\n",
    "    \"\"\"Plot the image batch.\n",
    "    \"\"\"\n",
    "    plt.figure(figsize=(10, 10))\n",
    "    plt.title(title)\n",
    "    plt.imshow(np.transpose( img.numpy(), (1, 2, 0)), cmap='gray')\n",
    "    plt.show()"
   ]
  },
  {
   "cell_type": "code",
   "execution_count": 5,
   "metadata": {},
   "outputs": [
    {
     "data": {
      "image/png": "[encoded data removed]",
      "text/plain": [
       "<Figure size 720x720 with 1 Axes>"
      ]
     },
     "metadata": {
      "needs_background": "light"
     },
     "output_type": "display_data"
    }
   ],
   "source": [
    "import matplotlib.pyplot as plt\n",
    "\n",
    "generator = DummyGenerator()\n",
    "X, Y = generator.generate_rectangles()\n",
    "\n",
    "dataset = CustomTensorDataset(tensors=(X, Y))\n",
    "loader = torch.utils.data.DataLoader(dataset, batch_size=16)\n",
    "\n",
    "for i, data in enumerate(loader):\n",
    "    x, y = data  \n",
    "    imshow(torchvision.utils.make_grid(x, 4))\n",
    "    break\n"
   ]
  },
  {
   "cell_type": "code",
   "execution_count": 6,
   "metadata": {},
   "outputs": [
    {
     "data": {
      "image/png": "[encoded data removed]",
      "text/plain": [
       "<Figure size 720x720 with 1 Axes>"
      ]
     },
     "metadata": {
      "needs_background": "light"
     },
     "output_type": "display_data"
    }
   ],
   "source": [
    "imshow(torchvision.utils.make_grid(y, 4))"
   ]
  },
  {
   "cell_type": "code",
   "execution_count": null,
   "metadata": {},
   "outputs": [],
   "source": []
  },
  {
   "cell_type": "code",
   "execution_count": null,
   "metadata": {},
   "outputs": [],
   "source": []
  },
  {
   "cell_type": "code",
   "execution_count": null,
   "metadata": {},
   "outputs": [],
   "source": []
  },
  {
   "cell_type": "code",
   "execution_count": null,
   "metadata": {},
   "outputs": [],
   "source": []
  },
  {
   "cell_type": "code",
   "execution_count": null,
   "metadata": {},
   "outputs": [],
   "source": []
  },
  {
   "cell_type": "code",
   "execution_count": null,
   "metadata": {},
   "outputs": [],
   "source": []
  },
  {
   "cell_type": "code",
   "execution_count": null,
   "metadata": {},
   "outputs": [],
   "source": []
  }
 ],
 "metadata": {
  "kernelspec": {
   "display_name": "Python 3",
   "language": "python",
   "name": "python3"
  },
  "language_info": {
   "codemirror_mode": {
    "name": "ipython",
    "version": 3
   },
   "file_extension": ".py",
   "mimetype": "text/x-python",
   "name": "python",
   "nbconvert_exporter": "python",
   "pygments_lexer": "ipython3",
   "version": "3.7.3"
  }
 },
 "nbformat": 4,
 "nbformat_minor": 2
}
